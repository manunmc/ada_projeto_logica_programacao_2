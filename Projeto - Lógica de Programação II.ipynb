{
 "cells": [
  {
   "cell_type": "markdown",
   "id": "926bffa4",
   "metadata": {},
   "source": [
    "# Projeto - Lógica de Programação II"
   ]
  },
  {
   "cell_type": "markdown",
   "id": "1cc101e1",
   "metadata": {},
   "source": [
    "**Professor**: Alex Lima<br>\n",
    "**Empresa**: Ada<br>\n",
    "**Projeto**: ifood - vem ser tech | DS    "
   ]
  },
  {
   "cell_type": "markdown",
   "id": "5c16e1f0",
   "metadata": {},
   "source": [
    "**Descrição**<br>\n",
    "Este notebook contém a descrição do projeto prático do módulo: Lógica de programação II. Neste projeto aplicaremos as técnicas aprendidas em aula para criarmos um sistema de controle de estoque."
   ]
  },
  {
   "cell_type": "markdown",
   "id": "84cb0774",
   "metadata": {},
   "source": [
    "**Objetivo**: Criar um sistema de controle de estoque. O programa deve forncer as seguintes funcionalidades:\n",
    "\n",
    "   - Cadastrar produto\n",
    "   - Consultar produto\n",
    "   - Listar produtos cadastrados\n",
    "   - Atualizar cadastro\n",
    "   - Excluir cadastro "
   ]
  },
  {
   "cell_type": "markdown",
   "id": "c887e0fb",
   "metadata": {},
   "source": [
    "## Especificação das funcionalidades"
   ]
  },
  {
   "cell_type": "markdown",
   "id": "636bf35a",
   "metadata": {},
   "source": [
    "### Menu principal\n",
    "```\n",
    "Crie uma tela de boas-vindas com um menu informando ao usuário as opções do programa:\n",
    "Boas vindas ao nosso sistema:\n",
    "\n",
    "\n",
    "1 - Cadastrar produto\n",
    "2 - Consultar produto\n",
    "3 - Listar produtos cadastrados\n",
    "4 - Atualizar cadastro\n",
    "5 - Excluir cadastro \n",
    "6 - Sair\n",
    "```"
   ]
  },
  {
   "cell_type": "markdown",
   "id": "b209f1fa",
   "metadata": {},
   "source": [
    "###   1 - Cadastrar produto\n",
    "\n",
    "Ao selecionar a opção `1 - Cadastrar produto`, o programa deve exibir uma tela de cadastro com campos para que o usuário cadastre um produto. O sistema deve possibilitar o cadastro de diferentes tipos de produtos. Cada produto deve ter:\n",
    " \n",
    " - ID (número identificador único)\n",
    " - Nome\n",
    " - Especificações (características como peso, altura, cor, tamanho, etc. As especificações e a quantidade de espeficiações podem vairar de acordo com o produto).\n",
    " - Quantidade do produto no estoque.\n",
    " - Texto descritivo opicional para cada produto;\n",
    " "
   ]
  },
  {
   "cell_type": "markdown",
   "id": "d58db03a",
   "metadata": {},
   "source": [
    "###   2 - Consultar produto\n",
    "\n",
    "Ao selecionar a opção `2 - Consultar produto`, o programa deve exibir um campo para o usuário inserir o id de um produto. Em seguida, caso o ID exista na base, os dados do produto devem ser exibidos, caso não exista, uma mensagem informando que o produto não existe deve ser exibida. "
   ]
  },
  {
   "cell_type": "markdown",
   "id": "51d158f5",
   "metadata": {},
   "source": [
    "###   3 - Listar produtos cadastrados\n",
    "\n",
    "Ao selecionar a opção `3 - Listar produtos cadastrados`, o programa deve exibir ID e nome de todos os produtos cadastrados."
   ]
  },
  {
   "cell_type": "markdown",
   "id": "f928e93a",
   "metadata": {},
   "source": [
    "###   4 - Atualizar cadastro\n",
    "\n",
    "Ao selecionar a opção `4 - Atualizar cadastro`, o programa deve exibir um campo para o usuário inserir o id de um produto. Em seguida, caso o ID exista na base, uma tela de cadastro deve ser exibida e os dados inseridos devem substituir os dados já existentes para o produto selecionado. Caso o ID não exista na base, uma mensagem informando que o produto não existe deve ser exibida."
   ]
  },
  {
   "cell_type": "markdown",
   "id": "50856467",
   "metadata": {},
   "source": [
    "###   5 - Excluir cadastro\n",
    "\n",
    "Ao selecionar a opção `5 - Excluir cadastro`, o programa deve exibir um campo para o usuário inserir o id de um produto. Em seguida, caso o ID exista na base, os dados do produto devem ser excluídos, caso não exista, uma mensagem informando que o produto não existe deve ser exibida. "
   ]
  },
  {
   "cell_type": "markdown",
   "id": "5b526dd2",
   "metadata": {},
   "source": [
    "###   6 - Sair\n",
    "\n",
    "Ao selecionar a opção `Sair`, o programa deve encerrar com sucesso."
   ]
  },
  {
   "cell_type": "markdown",
   "id": "7e134c21",
   "metadata": {},
   "source": [
    "### Base de dados"
   ]
  },
  {
   "cell_type": "markdown",
   "id": "ec056722",
   "metadata": {},
   "source": [
    "A base de dados deve ser mantida em um arquivo de texto. A base deve armazenar todos os produtos cadastrados, não excluídos e com dados atualizados."
   ]
  },
  {
   "cell_type": "markdown",
   "id": "a79a0ada",
   "metadata": {},
   "source": [
    "### Tratamento de erros\n",
    "\n",
    "Lembramos que podem ser inseridos dados que não condizem exatamente com o tipo esperado. Neste caso, é importante realizar o tratamento de erros quando necessário."
   ]
  },
  {
   "cell_type": "markdown",
   "id": "a39f1972",
   "metadata": {},
   "source": [
    "### Avaliação e prazo"
   ]
  },
  {
   "cell_type": "markdown",
   "id": "3541baae",
   "metadata": {},
   "source": [
    "O projeto deve ser entregue via e-mail até o dia 17/11/2023 às 23:59 contendo todos os artefatos relacionados (arquivos .py, jupyter notebooks e bases de dados). A apresentação do projeto será dia 17/11/2023 durante o horário da aula com tempo máximo de 20 min. \n",
    "\n",
    "**Todo progresso apresentado ou encaminhado contará de forma positiva na avaliação.**\n",
    "    "
   ]
  },
  {
   "cell_type": "markdown",
   "id": "68fd8225",
   "metadata": {},
   "source": [
    "**E-mail para envio do projeto e solução de dúvidas**: alexlimacavalera@gmail.com"
   ]
  },
  {
   "cell_type": "code",
   "execution_count": null,
   "id": "9b2e61ae",
   "metadata": {},
   "outputs": [],
   "source": []
  }
 ],
 "metadata": {
  "kernelspec": {
   "display_name": "Python 3 (ipykernel)",
   "language": "python",
   "name": "python3"
  },
  "language_info": {
   "codemirror_mode": {
    "name": "ipython",
    "version": 3
   },
   "file_extension": ".py",
   "mimetype": "text/x-python",
   "name": "python",
   "nbconvert_exporter": "python",
   "pygments_lexer": "ipython3",
   "version": "3.10.11"
  }
 },
 "nbformat": 4,
 "nbformat_minor": 5
}
